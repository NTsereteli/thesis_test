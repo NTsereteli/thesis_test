{
 "cells": [
  {
   "cell_type": "code",
   "execution_count": 19,
   "id": "f8b3a512",
   "metadata": {},
   "outputs": [],
   "source": [
    "from gensim.models.doc2vec import Doc2Vec\n",
    "import numpy as np\n",
    "import re"
   ]
  },
  {
   "cell_type": "code",
   "execution_count": 3,
   "id": "535e9cd8",
   "metadata": {},
   "outputs": [],
   "source": [
    "model = Doc2Vec.load('../models/vector_size_256__max_vocab_size_100000__epochs_120.model')"
   ]
  },
  {
   "cell_type": "code",
   "execution_count": 42,
   "id": "dc1b0549",
   "metadata": {},
   "outputs": [],
   "source": [
    "def cosine_similarity(vector1, vector2):\n",
    "    dot_product = np.dot(vector1, vector2)\n",
    "    norm_vector1 = np.linalg.norm(vector1)\n",
    "    norm_vector2 = np.linalg.norm(vector2)\n",
    "    similarity = dot_product / (norm_vector1 * norm_vector2)\n",
    "    return similarity\n",
    "\n",
    "def euclidean_distance(vector1, vector2):\n",
    "    squared_diff = np.power(vector1 - vector2, 2)\n",
    "    sum_squared_diff = np.sum(squared_diff)\n",
    "    distance = np.sqrt(sum_squared_diff)\n",
    "    return distance\n",
    "\n",
    "def preprocess_doc(text):\n",
    "    text = re.sub(r'[^ა-ჰ ]', ' ', text)\n",
    "    text = re.sub(r' +', ' ', text)\n",
    "    lst = text.split()\n",
    "    return lst\n",
    "    \n",
    "\n",
    "def get_similarity(news1, news2, model=model, distance='cosine'):\n",
    "    list_of_list_of_words1 = preprocess_doc(news1)\n",
    "    list_of_list_of_words2 = preprocess_doc(news2)\n",
    "    \n",
    "    vec1 = model.infer_vector(list_of_list_of_words1)\n",
    "    vec2 = model.infer_vector(list_of_list_of_words2)\n",
    "    \n",
    "    if distance == 'euclidean':\n",
    "        return -euclidean_distance(vec1, vec2)\n",
    "    if distance == 'cosine':\n",
    "        return cosine_similarity(vec1, vec2)"
   ]
  },
  {
   "cell_type": "code",
   "execution_count": 43,
   "id": "bdd975df",
   "metadata": {},
   "outputs": [],
   "source": [
    "news1 = \"\"\"გუშინ იყო აბსოლუტურად უტიფარი, ყოველგვარ ზღვარს გადასული განცხადებები და შეტევა იმ ადამიანების მიმართ, ვინც ჩათვალა, ხმა მიეცა კანდიდატებისთვის და შესრულებულიყო ევროკომისიის პრინციპული რეკომენდაცია, - ამის შესახებ გიორგი ვოლსკიმ განაცხადა. პარლამენტის პირველ ვიცე-სპიკერს მიაჩნია, რომ იმ ადამიანებზე, ვინც იუსტიციის უმაღლესი საბჭოს არამოსამართლე წევრების არჩევაში მიიღეს მონაწილეობა, ისევე როგორც თავად კანდიდატებზე შეტევა დაუმსახურებელი და უსაფუძვლო იყო.\n",
    "\n",
    "„ეს ყველაფერი ლუსტრაციას ნიშნავდა, რომ რეკომენდაციის შესრულება არ არის „ნაცმოძრაობის“ „მებრძოლი კოალიციის“ ინტერესში. მათი მიზანია, რეკომენდაციები არ შესრულდეს და არ დაკომპლექტდეს იუსტიციის უმაღლესი საბჭო. ეს იმდენად ნათელი გახდა, რომ არ ვიცი, გუშინდელი სკანდალიდან როგორ შეიძლება გამოვიდნენ. თქვეს, რომ იყო გარიგება, ფული გადაიხადეს, ფული ჯოჯოხეთს ანათებს და ა.შ. სრულიად უნამუსო და უტიფარი განცხადებები გააკეთეს. არ შეიძლება, ასეთი გარიგება შემდგარიყო. ასეთი გარიგება არ ყოფილა, ეს არ არის „ნაცმოძრაობა“, რომელიც აღზევებული და დაკავებული იყო გარიგებებით და ხალხის დაშინებით, ინტრიგებით. მათ სხვა რესურსი არ ჰქონდათ. თუ ადამიანებმა გადაწყვიტეს, რომ საქართველოსთვის ასე უკეთესია, რომ რეკომენდაცია შესრულდეს, რატომ შეიძლება იმ იდეას უპირისპირდებოდეს, რაც აქვთ ხაბეიშვილსა და კეზერაშვილს“, - განაცხადა ვოლსკიმ.\n",
    "\n",
    "იუსტიციის უმაღლესმა საბჭომ სამი არამოსამართლე წევრი აირჩია. ტრისტან ბენაშვილმა, გიორგი გზობავამ და ზურაბ გურასპაშვილმა 90-ზე მეტი ხმა მიიღეს. პარლამენტის პლენარულ სხდომაზე გამართული კენჭისყრის შედეგად, იუსტიციის უმაღლეს საბჭოში არსებული 5 არამოსამართლე წევრის ვაკანსიიდან მხოლოდ სამი ვაკანსია შეივსო. კენჭისყრაში ხუთმა ოპოზიციონერმა მიიღო მონაწილეობა. აქედან 4 ფრაქცია „ნაციონალური მოძრაობის“ წევრია. სამმა მათგანმა ფრაქცია დატოვა.\"\"\""
   ]
  },
  {
   "cell_type": "code",
   "execution_count": 44,
   "id": "99646014",
   "metadata": {},
   "outputs": [],
   "source": [
    "news2 = \"\"\"პარასკევს, 19 მაისს პარლამენტი განათლებისა და მეცნიერების მინისტრს, გიორგი ამილახვარს და შინაგან საქმეთა მინისტრს, ვახტანგ გომელაურს ინტერპელაციის წესით მოუსმენს. ამის შესახებ პარლამენტის თავმჯდომარემ შალვა პაპუაშვილმა ბიუროს დღევანდელ სხდომაზე განაცხადა.\n",
    "\n",
    "რაც შეეხება ეკონომიკისა და მდგრადი განვითარების მინისტრს, ლევან დავითაშვილს, მას პარლამენტი ინტერპელაციის წესით, სექტემბრის ბოლოს მოუსმენს.\n",
    "\n",
    "„ეკონომიკისა და მდგრადი განვითარების მინისტრი ჯანმრთელობის მდგომარეობის გამო, ვერ შეძლებს ინტერპელაციაზე მოსვლას, გუშინ მივიღეთ მისი ინფორმაცია. შესაბამისად, დაგეგმილი 3 ინტერპელაციის ნაცვლად, გვექნება ორი - განათლებისა და მეცნიერების და შინაგან საქმეთა მინისტრების. ეკონომიკისა და მდგრადი განვითარების მინისტრის ინტერპელაციის წესით მოსმენა გადაიწევს სექტემბრის ბოლო სასესიო კვირის პარასკევს“, - განაცხადა შალვა პაპუაშვილმა.\"\"\""
   ]
  },
  {
   "cell_type": "code",
   "execution_count": 69,
   "id": "85361b5c",
   "metadata": {},
   "outputs": [
    {
     "data": {
      "text/plain": [
       "0.10194248"
      ]
     },
     "execution_count": 69,
     "metadata": {},
     "output_type": "execute_result"
    }
   ],
   "source": [
    "get_similarity(news1, news2)"
   ]
  },
  {
   "cell_type": "code",
   "execution_count": null,
   "id": "ae07573e",
   "metadata": {},
   "outputs": [],
   "source": []
  }
 ],
 "metadata": {
  "kernelspec": {
   "display_name": "Python 3 (ipykernel)",
   "language": "python",
   "name": "python3"
  },
  "language_info": {
   "codemirror_mode": {
    "name": "ipython",
    "version": 3
   },
   "file_extension": ".py",
   "mimetype": "text/x-python",
   "name": "python",
   "nbconvert_exporter": "python",
   "pygments_lexer": "ipython3",
   "version": "3.10.0"
  }
 },
 "nbformat": 4,
 "nbformat_minor": 5
}
