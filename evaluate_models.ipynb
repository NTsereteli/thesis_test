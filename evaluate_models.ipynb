{
 "cells": [
  {
   "cell_type": "code",
   "execution_count": 1,
   "id": "3c1a21fb",
   "metadata": {},
   "outputs": [],
   "source": [
    "import pandas as pd\n",
    "from utils.data import Data\n",
    "from gensim.models.doc2vec import Doc2Vec\n",
    "import os"
   ]
  },
  {
   "cell_type": "code",
   "execution_count": 3,
   "id": "c4078f19",
   "metadata": {},
   "outputs": [],
   "source": [
    "df = pd.read_csv('political_posts.csv')\n",
    "data = Data(df)\n",
    "dfs = data.time_series_split()"
   ]
  },
  {
   "cell_type": "code",
   "execution_count": 6,
   "id": "11240d74",
   "metadata": {},
   "outputs": [
    {
     "name": "stderr",
     "output_type": "stream",
     "text": [
      "2023-05-18 12:44:39,852 : INFO : loading Doc2Vec object from models/vector_size_256__max_vocab_size_100000__epochs_120.model\n",
      "2023-05-18 12:44:39,935 : INFO : loading dv recursively from models/vector_size_256__max_vocab_size_100000__epochs_120.model.dv.* with mmap=None\n",
      "2023-05-18 12:44:39,937 : INFO : loading vectors from models/vector_size_256__max_vocab_size_100000__epochs_120.model.dv.vectors.npy with mmap=None\n",
      "2023-05-18 12:44:40,181 : INFO : loading wv recursively from models/vector_size_256__max_vocab_size_100000__epochs_120.model.wv.* with mmap=None\n",
      "2023-05-18 12:44:40,183 : INFO : loading vectors from models/vector_size_256__max_vocab_size_100000__epochs_120.model.wv.vectors.npy with mmap=None\n",
      "2023-05-18 12:44:40,270 : INFO : loading syn1neg from models/vector_size_256__max_vocab_size_100000__epochs_120.model.syn1neg.npy with mmap=None\n",
      "2023-05-18 12:44:40,359 : INFO : setting ignored attribute cum_table to None\n",
      "2023-05-18 12:44:41,310 : INFO : Doc2Vec lifecycle event {'fname': 'models/vector_size_256__max_vocab_size_100000__epochs_120.model', 'datetime': '2023-05-18T12:44:41.310477', 'gensim': '4.3.0', 'python': '3.10.0 (tags/v3.10.0:b494f59, Oct  4 2021, 19:00:18) [MSC v.1929 64 bit (AMD64)]', 'platform': 'Windows-10-10.0.22621-SP0', 'event': 'loaded'}\n",
      "2023-05-18 13:03:36,288 : INFO : loading Doc2Vec object from models/vector_size_256__max_vocab_size_100000__epochs_200.model\n",
      "2023-05-18 13:03:36,360 : INFO : loading dv recursively from models/vector_size_256__max_vocab_size_100000__epochs_200.model.dv.* with mmap=None\n",
      "2023-05-18 13:03:36,364 : INFO : loading vectors from models/vector_size_256__max_vocab_size_100000__epochs_200.model.dv.vectors.npy with mmap=None\n",
      "2023-05-18 13:03:36,621 : INFO : loading wv recursively from models/vector_size_256__max_vocab_size_100000__epochs_200.model.wv.* with mmap=None\n",
      "2023-05-18 13:03:36,623 : INFO : loading vectors from models/vector_size_256__max_vocab_size_100000__epochs_200.model.wv.vectors.npy with mmap=None\n",
      "2023-05-18 13:03:36,716 : INFO : loading syn1neg from models/vector_size_256__max_vocab_size_100000__epochs_200.model.syn1neg.npy with mmap=None\n",
      "2023-05-18 13:03:36,808 : INFO : setting ignored attribute cum_table to None\n",
      "2023-05-18 13:03:37,920 : INFO : Doc2Vec lifecycle event {'fname': 'models/vector_size_256__max_vocab_size_100000__epochs_200.model', 'datetime': '2023-05-18T13:03:37.920867', 'gensim': '4.3.0', 'python': '3.10.0 (tags/v3.10.0:b494f59, Oct  4 2021, 19:00:18) [MSC v.1929 64 bit (AMD64)]', 'platform': 'Windows-10-10.0.22621-SP0', 'event': 'loaded'}\n",
      "2023-05-18 13:35:07,248 : INFO : loading Doc2Vec object from models/vector_size_256__max_vocab_size_100000__epochs_50.model\n",
      "2023-05-18 13:35:07,330 : INFO : loading dv recursively from models/vector_size_256__max_vocab_size_100000__epochs_50.model.dv.* with mmap=None\n",
      "2023-05-18 13:35:07,332 : INFO : loading vectors from models/vector_size_256__max_vocab_size_100000__epochs_50.model.dv.vectors.npy with mmap=None\n",
      "2023-05-18 13:35:07,581 : INFO : loading wv recursively from models/vector_size_256__max_vocab_size_100000__epochs_50.model.wv.* with mmap=None\n",
      "2023-05-18 13:35:07,583 : INFO : loading vectors from models/vector_size_256__max_vocab_size_100000__epochs_50.model.wv.vectors.npy with mmap=None\n",
      "2023-05-18 13:35:07,672 : INFO : loading syn1neg from models/vector_size_256__max_vocab_size_100000__epochs_50.model.syn1neg.npy with mmap=None\n",
      "2023-05-18 13:35:07,765 : INFO : setting ignored attribute cum_table to None\n",
      "2023-05-18 13:35:08,909 : INFO : Doc2Vec lifecycle event {'fname': 'models/vector_size_256__max_vocab_size_100000__epochs_50.model', 'datetime': '2023-05-18T13:35:08.909746', 'gensim': '4.3.0', 'python': '3.10.0 (tags/v3.10.0:b494f59, Oct  4 2021, 19:00:18) [MSC v.1929 64 bit (AMD64)]', 'platform': 'Windows-10-10.0.22621-SP0', 'event': 'loaded'}\n",
      "2023-05-18 13:43:39,203 : INFO : loading Doc2Vec object from models/vector_size_256__max_vocab_size_100000__epochs_70.model\n",
      "2023-05-18 13:43:39,241 : INFO : loading dv recursively from models/vector_size_256__max_vocab_size_100000__epochs_70.model.dv.* with mmap=None\n",
      "2023-05-18 13:43:39,242 : INFO : loading vectors from models/vector_size_256__max_vocab_size_100000__epochs_70.model.dv.vectors.npy with mmap=None\n",
      "2023-05-18 13:43:39,439 : INFO : loading wv recursively from models/vector_size_256__max_vocab_size_100000__epochs_70.model.wv.* with mmap=None\n",
      "2023-05-18 13:43:39,441 : INFO : loading vectors from models/vector_size_256__max_vocab_size_100000__epochs_70.model.wv.vectors.npy with mmap=None\n",
      "2023-05-18 13:43:39,524 : INFO : loading syn1neg from models/vector_size_256__max_vocab_size_100000__epochs_70.model.syn1neg.npy with mmap=None\n",
      "2023-05-18 13:43:39,605 : INFO : setting ignored attribute cum_table to None\n",
      "2023-05-18 13:43:40,165 : INFO : Doc2Vec lifecycle event {'fname': 'models/vector_size_256__max_vocab_size_100000__epochs_70.model', 'datetime': '2023-05-18T13:43:40.165798', 'gensim': '4.3.0', 'python': '3.10.0 (tags/v3.10.0:b494f59, Oct  4 2021, 19:00:18) [MSC v.1929 64 bit (AMD64)]', 'platform': 'Windows-10-10.0.22621-SP0', 'event': 'loaded'}\n",
      "2023-05-18 13:49:02,138 : INFO : loading Doc2Vec object from models/vector_size_256__max_vocab_size_10000__epochs_120.model\n",
      "2023-05-18 13:49:02,160 : INFO : loading dv recursively from models/vector_size_256__max_vocab_size_10000__epochs_120.model.dv.* with mmap=None\n",
      "2023-05-18 13:49:02,161 : INFO : loading vectors from models/vector_size_256__max_vocab_size_10000__epochs_120.model.dv.vectors.npy with mmap=None\n",
      "2023-05-18 13:49:02,363 : INFO : loading wv recursively from models/vector_size_256__max_vocab_size_10000__epochs_120.model.wv.* with mmap=None\n",
      "2023-05-18 13:49:02,364 : INFO : setting ignored attribute cum_table to None\n",
      "2023-05-18 13:49:02,393 : INFO : Doc2Vec lifecycle event {'fname': 'models/vector_size_256__max_vocab_size_10000__epochs_120.model', 'datetime': '2023-05-18T13:49:02.393244', 'gensim': '4.3.0', 'python': '3.10.0 (tags/v3.10.0:b494f59, Oct  4 2021, 19:00:18) [MSC v.1929 64 bit (AMD64)]', 'platform': 'Windows-10-10.0.22621-SP0', 'event': 'loaded'}\n",
      "2023-05-18 13:53:39,142 : INFO : loading Doc2Vec object from models/vector_size_256__max_vocab_size_10000__epochs_200.model\n",
      "2023-05-18 13:53:39,171 : INFO : loading dv recursively from models/vector_size_256__max_vocab_size_10000__epochs_200.model.dv.* with mmap=None\n",
      "2023-05-18 13:53:39,172 : INFO : loading vectors from models/vector_size_256__max_vocab_size_10000__epochs_200.model.dv.vectors.npy with mmap=None\n",
      "2023-05-18 13:53:39,371 : INFO : loading wv recursively from models/vector_size_256__max_vocab_size_10000__epochs_200.model.wv.* with mmap=None\n",
      "2023-05-18 13:53:39,372 : INFO : setting ignored attribute cum_table to None\n",
      "2023-05-18 13:53:39,408 : INFO : Doc2Vec lifecycle event {'fname': 'models/vector_size_256__max_vocab_size_10000__epochs_200.model', 'datetime': '2023-05-18T13:53:39.408318', 'gensim': '4.3.0', 'python': '3.10.0 (tags/v3.10.0:b494f59, Oct  4 2021, 19:00:18) [MSC v.1929 64 bit (AMD64)]', 'platform': 'Windows-10-10.0.22621-SP0', 'event': 'loaded'}\n",
      "2023-05-18 14:01:10,238 : INFO : loading Doc2Vec object from models/vector_size_256__max_vocab_size_10000__epochs_50.model\n",
      "2023-05-18 14:01:10,260 : INFO : loading dv recursively from models/vector_size_256__max_vocab_size_10000__epochs_50.model.dv.* with mmap=None\n",
      "2023-05-18 14:01:10,261 : INFO : loading vectors from models/vector_size_256__max_vocab_size_10000__epochs_50.model.dv.vectors.npy with mmap=None\n",
      "2023-05-18 14:01:10,333 : INFO : loading wv recursively from models/vector_size_256__max_vocab_size_10000__epochs_50.model.wv.* with mmap=None\n",
      "2023-05-18 14:01:10,335 : INFO : setting ignored attribute cum_table to None\n",
      "2023-05-18 14:01:10,361 : INFO : Doc2Vec lifecycle event {'fname': 'models/vector_size_256__max_vocab_size_10000__epochs_50.model', 'datetime': '2023-05-18T14:01:10.361406', 'gensim': '4.3.0', 'python': '3.10.0 (tags/v3.10.0:b494f59, Oct  4 2021, 19:00:18) [MSC v.1929 64 bit (AMD64)]', 'platform': 'Windows-10-10.0.22621-SP0', 'event': 'loaded'}\n",
      "2023-05-18 14:03:11,363 : INFO : loading Doc2Vec object from models/vector_size_256__max_vocab_size_10000__epochs_70.model\n",
      "2023-05-18 14:03:11,395 : INFO : loading dv recursively from models/vector_size_256__max_vocab_size_10000__epochs_70.model.dv.* with mmap=None\n"
     ]
    },
    {
     "name": "stderr",
     "output_type": "stream",
     "text": [
      "2023-05-18 14:03:11,396 : INFO : loading vectors from models/vector_size_256__max_vocab_size_10000__epochs_70.model.dv.vectors.npy with mmap=None\n",
      "2023-05-18 14:03:11,588 : INFO : loading wv recursively from models/vector_size_256__max_vocab_size_10000__epochs_70.model.wv.* with mmap=None\n",
      "2023-05-18 14:03:11,589 : INFO : setting ignored attribute cum_table to None\n",
      "2023-05-18 14:03:11,634 : INFO : Doc2Vec lifecycle event {'fname': 'models/vector_size_256__max_vocab_size_10000__epochs_70.model', 'datetime': '2023-05-18T14:03:11.634425', 'gensim': '4.3.0', 'python': '3.10.0 (tags/v3.10.0:b494f59, Oct  4 2021, 19:00:18) [MSC v.1929 64 bit (AMD64)]', 'platform': 'Windows-10-10.0.22621-SP0', 'event': 'loaded'}\n"
     ]
    }
   ],
   "source": [
    "results = {}\n",
    "for filename in os.listdir('models'):\n",
    "    if filename.endswith('model') and '256' in filename:\n",
    "        mod = Doc2Vec.load(f'models/{filename}')\n",
    "        f1_score = data.evaluate(mod, dfs)\n",
    "        results[filename] = f1_score"
   ]
  },
  {
   "cell_type": "code",
   "execution_count": 7,
   "id": "05ecc01a",
   "metadata": {},
   "outputs": [
    {
     "data": {
      "text/plain": [
       "vector_size_256__max_vocab_size_10000__epochs_120.model     0.481612\n",
       "vector_size_256__max_vocab_size_10000__epochs_70.model      0.477121\n",
       "vector_size_256__max_vocab_size_10000__epochs_50.model      0.474572\n",
       "vector_size_256__max_vocab_size_10000__epochs_200.model     0.473237\n",
       "vector_size_256__max_vocab_size_100000__epochs_200.model    0.458794\n",
       "vector_size_256__max_vocab_size_100000__epochs_120.model    0.451997\n",
       "vector_size_256__max_vocab_size_100000__epochs_70.model     0.442287\n",
       "vector_size_256__max_vocab_size_100000__epochs_50.model     0.433548\n",
       "dtype: float64"
      ]
     },
     "execution_count": 7,
     "metadata": {},
     "output_type": "execute_result"
    }
   ],
   "source": [
    "pd.Series(results).sort_values(ascending=False).head(50)"
   ]
  }
 ],
 "metadata": {
  "kernelspec": {
   "display_name": "Python 3 (ipykernel)",
   "language": "python",
   "name": "python3"
  },
  "language_info": {
   "codemirror_mode": {
    "name": "ipython",
    "version": 3
   },
   "file_extension": ".py",
   "mimetype": "text/x-python",
   "name": "python",
   "nbconvert_exporter": "python",
   "pygments_lexer": "ipython3",
   "version": "3.10.0"
  }
 },
 "nbformat": 4,
 "nbformat_minor": 5
}
